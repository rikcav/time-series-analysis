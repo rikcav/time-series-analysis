{
 "cells": [
  {
   "cell_type": "code",
   "execution_count": 1,
   "id": "827873a9-35c7-4c4c-a788-f80772c6f312",
   "metadata": {},
   "outputs": [],
   "source": [
    "import pandas as pd"
   ]
  },
  {
   "cell_type": "code",
   "execution_count": 2,
   "id": "0a0da895-a069-43e8-bb0f-0999581cbf43",
   "metadata": {},
   "outputs": [],
   "source": [
    "dates = ['2017-01-05', 'Jan 5, 2017', '01/05/2017', '2017.01.05', '2017/01/05', '20170105']"
   ]
  },
  {
   "cell_type": "code",
   "execution_count": 3,
   "id": "389826b5-723c-468e-9f71-3ed2ce1d2bd3",
   "metadata": {},
   "outputs": [
    {
     "data": {
      "text/plain": [
       "DatetimeIndex(['2017-01-05', '2017-01-05', '2017-01-05', '2017-01-05',\n",
       "               '2017-01-05', '2017-01-05'],\n",
       "              dtype='datetime64[ns]', freq=None)"
      ]
     },
     "execution_count": 3,
     "metadata": {},
     "output_type": "execute_result"
    }
   ],
   "source": [
    "pd.to_datetime(dates)"
   ]
  },
  {
   "cell_type": "code",
   "execution_count": 4,
   "id": "f0777a95-aae6-4aa3-ad18-ab03632e311f",
   "metadata": {},
   "outputs": [],
   "source": [
    "datetime = ['2017-01-05 2:30:00 PM', 'Jan 5, 2017 14:30:00']"
   ]
  },
  {
   "cell_type": "code",
   "execution_count": 5,
   "id": "4c49e268-1ace-4354-a8ed-f0a10bd49eb2",
   "metadata": {},
   "outputs": [
    {
     "data": {
      "text/plain": [
       "DatetimeIndex(['2017-01-05 14:30:00', '2017-01-05 14:30:00'], dtype='datetime64[ns]', freq=None)"
      ]
     },
     "execution_count": 5,
     "metadata": {},
     "output_type": "execute_result"
    }
   ],
   "source": [
    "pd.to_datetime(datetime)"
   ]
  },
  {
   "cell_type": "code",
   "execution_count": 6,
   "id": "58c88e53-14d9-416a-a254-eaee0dfbabc5",
   "metadata": {},
   "outputs": [
    {
     "data": {
      "text/plain": [
       "Timestamp('2017-05-01 00:00:00')"
      ]
     },
     "execution_count": 6,
     "metadata": {},
     "output_type": "execute_result"
    }
   ],
   "source": [
    "pd.to_datetime('5/1/2017') # US Format"
   ]
  },
  {
   "cell_type": "code",
   "execution_count": 7,
   "id": "17122c23-337a-4bae-b4cd-b1d43d2b35f6",
   "metadata": {},
   "outputs": [
    {
     "data": {
      "text/plain": [
       "Timestamp('2017-01-05 00:00:00')"
      ]
     },
     "execution_count": 7,
     "metadata": {},
     "output_type": "execute_result"
    }
   ],
   "source": [
    "pd.to_datetime('5/1/2017', dayfirst=True) # EU Format"
   ]
  },
  {
   "cell_type": "code",
   "execution_count": 8,
   "id": "fbfb235e-10de-4cd4-bb96-44192c10f1d5",
   "metadata": {},
   "outputs": [
    {
     "data": {
      "text/plain": [
       "Timestamp('2017-01-05 00:00:00')"
      ]
     },
     "execution_count": 8,
     "metadata": {},
     "output_type": "execute_result"
    }
   ],
   "source": [
    "pd.to_datetime('5$1$2017', format='%d$%m$%Y') # Custom Format"
   ]
  },
  {
   "cell_type": "code",
   "execution_count": 9,
   "id": "d8008b3f-4f6a-44e6-82e1-80096068d25c",
   "metadata": {},
   "outputs": [],
   "source": [
    "# By default, errors will be thrown by invalid datetimes"
   ]
  },
  {
   "cell_type": "code",
   "execution_count": 10,
   "id": "7b90945f-81f5-45da-baad-b9802a4ff09b",
   "metadata": {},
   "outputs": [
    {
     "data": {
      "text/plain": [
       "Index(['2017-01-05', '1/5/2017', 'abc'], dtype='object')"
      ]
     },
     "execution_count": 10,
     "metadata": {},
     "output_type": "execute_result"
    }
   ],
   "source": [
    "# Ignore will not convert to datetime when a string is invalid\n",
    "pd.to_datetime(['2017-01-05', '1/5/2017', 'abc'], errors='ignore')"
   ]
  },
  {
   "cell_type": "code",
   "execution_count": 11,
   "id": "36580c24-6f3e-40c4-ad0f-69325ad70957",
   "metadata": {},
   "outputs": [
    {
     "data": {
      "text/plain": [
       "DatetimeIndex(['2017-01-05', '2017-01-05', 'NaT'], dtype='datetime64[ns]', freq=None)"
      ]
     },
     "execution_count": 11,
     "metadata": {},
     "output_type": "execute_result"
    }
   ],
   "source": [
    "# Coerce will convert all to datetime and turn invalid strings into NaT\n",
    "pd.to_datetime(['2017-01-05', '1/5/2017', 'abc'], errors='coerce')"
   ]
  },
  {
   "cell_type": "code",
   "execution_count": 12,
   "id": "753e967a-407e-44ad-8637-bcf98e227094",
   "metadata": {},
   "outputs": [],
   "source": [
    "from time import time"
   ]
  },
  {
   "cell_type": "code",
   "execution_count": 13,
   "id": "fde67d4a-54ec-4e86-b13e-f5cb0ff3e4b0",
   "metadata": {},
   "outputs": [
    {
     "data": {
      "text/plain": [
       "Timestamp('2024-03-29 21:02:18.357854464')"
      ]
     },
     "execution_count": 13,
     "metadata": {},
     "output_type": "execute_result"
    }
   ],
   "source": [
    "# Convert Unix Timestamp to datetime\n",
    "t = time()\n",
    "pd.to_datetime(t, unit='s')"
   ]
  },
  {
   "cell_type": "code",
   "execution_count": 14,
   "id": "acdc60e7-f34d-4196-aed4-182477204274",
   "metadata": {},
   "outputs": [],
   "source": [
    "dt = pd.to_datetime([t], unit='s')"
   ]
  },
  {
   "cell_type": "code",
   "execution_count": 15,
   "id": "843c2095-15a0-4e60-9523-1f819ba1dd10",
   "metadata": {},
   "outputs": [
    {
     "data": {
      "text/plain": [
       "array([1711746138357854366])"
      ]
     },
     "execution_count": 15,
     "metadata": {},
     "output_type": "execute_result"
    }
   ],
   "source": [
    "dt.view('int64') # Convert from datetime back to unix timestamp"
   ]
  }
 ],
 "metadata": {
  "kernelspec": {
   "display_name": "Python 3 (ipykernel)",
   "language": "python",
   "name": "python3"
  },
  "language_info": {
   "codemirror_mode": {
    "name": "ipython",
    "version": 3
   },
   "file_extension": ".py",
   "mimetype": "text/x-python",
   "name": "python",
   "nbconvert_exporter": "python",
   "pygments_lexer": "ipython3",
   "version": "3.11.8"
  }
 },
 "nbformat": 4,
 "nbformat_minor": 5
}
