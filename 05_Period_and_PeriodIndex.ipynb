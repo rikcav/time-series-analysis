{
 "cells": [
  {
   "cell_type": "code",
   "execution_count": 1,
   "id": "4a6d6b4b-0587-4798-b7e6-a0876943bb1e",
   "metadata": {},
   "outputs": [],
   "source": [
    "import pandas as pd"
   ]
  },
  {
   "cell_type": "markdown",
   "id": "fb80cb36-b6ad-4829-914f-4eea46f985ab",
   "metadata": {},
   "source": [
    "#### Yearly period"
   ]
  },
  {
   "cell_type": "code",
   "execution_count": 2,
   "id": "ca54a3b5-61cc-4090-8043-ab73bc85b693",
   "metadata": {},
   "outputs": [
    {
     "data": {
      "text/plain": [
       "Period('2016', 'A-DEC')"
      ]
     },
     "execution_count": 2,
     "metadata": {},
     "output_type": "execute_result"
    }
   ],
   "source": [
    "y = pd.Period('2016', 'A-DEC')\n",
    "y"
   ]
  },
  {
   "cell_type": "code",
   "execution_count": 3,
   "id": "63985e40-4e9b-479e-ab8a-555102c47f49",
   "metadata": {},
   "outputs": [
    {
     "data": {
      "text/plain": [
       "Timestamp('2016-01-01 00:00:00')"
      ]
     },
     "execution_count": 3,
     "metadata": {},
     "output_type": "execute_result"
    }
   ],
   "source": [
    "y.start_time"
   ]
  },
  {
   "cell_type": "code",
   "execution_count": 4,
   "id": "657a63e7-3419-4036-956b-02c0bc3b5949",
   "metadata": {},
   "outputs": [
    {
     "data": {
      "text/plain": [
       "Timestamp('2016-12-31 23:59:59.999999999')"
      ]
     },
     "execution_count": 4,
     "metadata": {},
     "output_type": "execute_result"
    }
   ],
   "source": [
    "y.end_time"
   ]
  },
  {
   "cell_type": "markdown",
   "id": "b5be9b16-3aa2-4671-b182-0f407b628bd4",
   "metadata": {},
   "source": [
    "#### Monthly period"
   ]
  },
  {
   "cell_type": "code",
   "execution_count": 5,
   "id": "933eddc3-ded9-4b7c-8a9f-380016e6bdea",
   "metadata": {},
   "outputs": [
    {
     "data": {
      "text/plain": [
       "Period('2011-01', 'M')"
      ]
     },
     "execution_count": 5,
     "metadata": {},
     "output_type": "execute_result"
    }
   ],
   "source": [
    "m = pd.Period('2011-1', freq='M')\n",
    "m"
   ]
  },
  {
   "cell_type": "code",
   "execution_count": 6,
   "id": "6cd2b540-e6dd-49e9-a449-3d99976e4acc",
   "metadata": {},
   "outputs": [
    {
     "data": {
      "text/plain": [
       "Timestamp('2011-01-01 00:00:00')"
      ]
     },
     "execution_count": 6,
     "metadata": {},
     "output_type": "execute_result"
    }
   ],
   "source": [
    "m.start_time"
   ]
  },
  {
   "cell_type": "code",
   "execution_count": 7,
   "id": "50cc9cd2-fd51-4f26-b071-df187501b315",
   "metadata": {},
   "outputs": [
    {
     "data": {
      "text/plain": [
       "Timestamp('2011-01-31 23:59:59.999999999')"
      ]
     },
     "execution_count": 7,
     "metadata": {},
     "output_type": "execute_result"
    }
   ],
   "source": [
    "m.end_time"
   ]
  },
  {
   "cell_type": "markdown",
   "id": "24941b7c-56a3-4036-9bba-eb7ac7044fa8",
   "metadata": {},
   "source": [
    "##### Arithmetic operations"
   ]
  },
  {
   "cell_type": "code",
   "execution_count": 8,
   "id": "8f187782-f18b-444f-bbd2-9766821751ba",
   "metadata": {},
   "outputs": [
    {
     "data": {
      "text/plain": [
       "Period('2011-02', 'M')"
      ]
     },
     "execution_count": 8,
     "metadata": {},
     "output_type": "execute_result"
    }
   ],
   "source": [
    "m + 1"
   ]
  },
  {
   "cell_type": "code",
   "execution_count": 9,
   "id": "d6bba857-2423-4fba-80fc-4fa752580524",
   "metadata": {},
   "outputs": [
    {
     "data": {
      "text/plain": [
       "Period('2010-08', 'M')"
      ]
     },
     "execution_count": 9,
     "metadata": {},
     "output_type": "execute_result"
    }
   ],
   "source": [
    "m - 5"
   ]
  },
  {
   "cell_type": "markdown",
   "id": "6058b658-00ca-472e-90f7-e2ef84dc4da0",
   "metadata": {},
   "source": [
    "#### Dayly period"
   ]
  },
  {
   "cell_type": "code",
   "execution_count": 10,
   "id": "ee942dbd-3eea-4645-8a16-068feeb41f81",
   "metadata": {},
   "outputs": [
    {
     "data": {
      "text/plain": [
       "Period('2017-02-28', 'D')"
      ]
     },
     "execution_count": 10,
     "metadata": {},
     "output_type": "execute_result"
    }
   ],
   "source": [
    "d = pd.Period('2017-02-28', freq='D')\n",
    "d"
   ]
  },
  {
   "cell_type": "code",
   "execution_count": 11,
   "id": "b3ce1bf5-f709-4493-8d77-eb7b4504c387",
   "metadata": {},
   "outputs": [
    {
     "data": {
      "text/plain": [
       "Period('2017-03-01', 'D')"
      ]
     },
     "execution_count": 11,
     "metadata": {},
     "output_type": "execute_result"
    }
   ],
   "source": [
    "d + 1"
   ]
  },
  {
   "cell_type": "code",
   "execution_count": 12,
   "id": "f096a820-c99a-4ca2-833e-3541c8f1ce49",
   "metadata": {},
   "outputs": [],
   "source": [
    "# It is aware of leap years"
   ]
  },
  {
   "cell_type": "code",
   "execution_count": 13,
   "id": "1940f3c2-fbe4-475f-ab15-f37b6c84f6d9",
   "metadata": {},
   "outputs": [],
   "source": [
    "d = pd.Period('2016-02-28', freq='D')"
   ]
  },
  {
   "cell_type": "code",
   "execution_count": 14,
   "id": "f794d948-d200-4617-a773-6d8b83b1fbd6",
   "metadata": {},
   "outputs": [
    {
     "data": {
      "text/plain": [
       "Period('2016-02-29', 'D')"
      ]
     },
     "execution_count": 14,
     "metadata": {},
     "output_type": "execute_result"
    }
   ],
   "source": [
    "d + 1"
   ]
  },
  {
   "cell_type": "markdown",
   "id": "ec47a6df-23dd-459e-9cf1-461fb742021e",
   "metadata": {},
   "source": [
    "#### Hourly period"
   ]
  },
  {
   "cell_type": "code",
   "execution_count": 15,
   "id": "5221ca5d-cd15-4d44-8f7d-0676de5c11ec",
   "metadata": {},
   "outputs": [
    {
     "data": {
      "text/plain": [
       "Period('2016-02-28 23:00', 'H')"
      ]
     },
     "execution_count": 15,
     "metadata": {},
     "output_type": "execute_result"
    }
   ],
   "source": [
    "h = pd.Period('2016-02-28 23:00:00', freq='H')\n",
    "h"
   ]
  },
  {
   "cell_type": "code",
   "execution_count": 16,
   "id": "54351404-0146-4bee-befc-aae9c2e63f44",
   "metadata": {},
   "outputs": [
    {
     "data": {
      "text/plain": [
       "Timestamp('2016-02-28 23:00:00')"
      ]
     },
     "execution_count": 16,
     "metadata": {},
     "output_type": "execute_result"
    }
   ],
   "source": [
    "h.start_time"
   ]
  },
  {
   "cell_type": "code",
   "execution_count": 17,
   "id": "af78ec05-cc66-4ca0-80cc-55183f8115cc",
   "metadata": {},
   "outputs": [
    {
     "data": {
      "text/plain": [
       "Timestamp('2016-02-28 23:59:59.999999999')"
      ]
     },
     "execution_count": 17,
     "metadata": {},
     "output_type": "execute_result"
    }
   ],
   "source": [
    "h.end_time"
   ]
  },
  {
   "cell_type": "code",
   "execution_count": 18,
   "id": "db479f5c-b6d6-4094-ac68-d93bf6c89016",
   "metadata": {},
   "outputs": [
    {
     "data": {
      "text/plain": [
       "Period('2016-02-29 00:00', 'H')"
      ]
     },
     "execution_count": 18,
     "metadata": {},
     "output_type": "execute_result"
    }
   ],
   "source": [
    "h + 1"
   ]
  },
  {
   "cell_type": "code",
   "execution_count": 19,
   "id": "4da0df90-cc31-4801-8536-9d555fdc9bfd",
   "metadata": {},
   "outputs": [
    {
     "data": {
      "text/plain": [
       "Period('2016-02-29 00:00', 'H')"
      ]
     },
     "execution_count": 19,
     "metadata": {},
     "output_type": "execute_result"
    }
   ],
   "source": [
    "h + pd.offsets.Hour(1)"
   ]
  },
  {
   "cell_type": "markdown",
   "id": "2240a5ca-c6da-468f-9a0e-a8d427489b19",
   "metadata": {},
   "source": [
    "#### Quarterly period"
   ]
  },
  {
   "cell_type": "code",
   "execution_count": 20,
   "id": "ae4577ec-7e68-4e57-af2b-5aa6bb652b2d",
   "metadata": {},
   "outputs": [
    {
     "data": {
      "text/plain": [
       "Period('2017Q1', 'Q-DEC')"
      ]
     },
     "execution_count": 20,
     "metadata": {},
     "output_type": "execute_result"
    }
   ],
   "source": [
    "q = pd.Period('2017Q1')\n",
    "q"
   ]
  },
  {
   "cell_type": "code",
   "execution_count": 21,
   "id": "fc9e64b6-08e0-48b4-8fe2-86b1e301c8e4",
   "metadata": {},
   "outputs": [
    {
     "data": {
      "text/plain": [
       "Timestamp('2017-01-01 00:00:00')"
      ]
     },
     "execution_count": 21,
     "metadata": {},
     "output_type": "execute_result"
    }
   ],
   "source": [
    "q.start_time"
   ]
  },
  {
   "cell_type": "code",
   "execution_count": 22,
   "id": "eceb206e-ee8f-4355-9c2a-fd95f6042449",
   "metadata": {},
   "outputs": [
    {
     "data": {
      "text/plain": [
       "Timestamp('2017-03-31 23:59:59.999999999')"
      ]
     },
     "execution_count": 22,
     "metadata": {},
     "output_type": "execute_result"
    }
   ],
   "source": [
    "q.end_time"
   ]
  },
  {
   "cell_type": "code",
   "execution_count": 23,
   "id": "b02e1046-6807-45f5-b011-5a510bd8536e",
   "metadata": {},
   "outputs": [
    {
     "data": {
      "text/plain": [
       "Period('2017Q2', 'Q-DEC')"
      ]
     },
     "execution_count": 23,
     "metadata": {},
     "output_type": "execute_result"
    }
   ],
   "source": [
    "q + 1"
   ]
  },
  {
   "cell_type": "markdown",
   "id": "456043cf-880c-4f08-bbcf-028e7303b5a5",
   "metadata": {},
   "source": [
    "##### Different quarterly periods"
   ]
  },
  {
   "cell_type": "code",
   "execution_count": 24,
   "id": "e5472610-1cd7-4b10-9a6c-7df7854c8959",
   "metadata": {},
   "outputs": [
    {
     "data": {
      "text/plain": [
       "Period('2017Q1', 'Q-JAN')"
      ]
     },
     "execution_count": 24,
     "metadata": {},
     "output_type": "execute_result"
    }
   ],
   "source": [
    "q = pd.Period('2017Q1', 'Q-JAN')\n",
    "q"
   ]
  },
  {
   "cell_type": "code",
   "execution_count": 25,
   "id": "94d014c3-209a-4430-8ce5-96e5bbf3979b",
   "metadata": {},
   "outputs": [
    {
     "data": {
      "text/plain": [
       "Timestamp('2016-02-01 00:00:00')"
      ]
     },
     "execution_count": 25,
     "metadata": {},
     "output_type": "execute_result"
    }
   ],
   "source": [
    "q.start_time"
   ]
  },
  {
   "cell_type": "code",
   "execution_count": 26,
   "id": "eed9eda7-fe15-48fa-bcfb-2f87bd626b4b",
   "metadata": {},
   "outputs": [
    {
     "data": {
      "text/plain": [
       "Timestamp('2016-04-30 23:59:59.999999999')"
      ]
     },
     "execution_count": 26,
     "metadata": {},
     "output_type": "execute_result"
    }
   ],
   "source": [
    "q.end_time"
   ]
  },
  {
   "cell_type": "code",
   "execution_count": 27,
   "id": "bca81bac-2d97-410b-86c4-addaa8975e90",
   "metadata": {},
   "outputs": [
    {
     "data": {
      "text/plain": [
       "Period('2016-02', 'M')"
      ]
     },
     "execution_count": 27,
     "metadata": {},
     "output_type": "execute_result"
    }
   ],
   "source": [
    "new_q = q.asfreq('M', how='start')\n",
    "new_q"
   ]
  },
  {
   "cell_type": "code",
   "execution_count": 28,
   "id": "cbffb368-5560-450a-ab53-e6830b3fceb5",
   "metadata": {},
   "outputs": [
    {
     "data": {
      "text/plain": [
       "Timestamp('2016-02-01 00:00:00')"
      ]
     },
     "execution_count": 28,
     "metadata": {},
     "output_type": "execute_result"
    }
   ],
   "source": [
    "new_q.start_time"
   ]
  },
  {
   "cell_type": "code",
   "execution_count": 29,
   "id": "060abd4e-d4cd-4956-b786-248c0aa08900",
   "metadata": {},
   "outputs": [
    {
     "data": {
      "text/plain": [
       "Timestamp('2016-02-29 23:59:59.999999999')"
      ]
     },
     "execution_count": 29,
     "metadata": {},
     "output_type": "execute_result"
    }
   ],
   "source": [
    "new_q.end_time"
   ]
  },
  {
   "cell_type": "code",
   "execution_count": 30,
   "id": "5f6f3cf7-b997-459d-ab24-2e9510276b22",
   "metadata": {},
   "outputs": [
    {
     "data": {
      "text/plain": [
       "Period('2018Q2', 'Q-JAN')"
      ]
     },
     "execution_count": 30,
     "metadata": {},
     "output_type": "execute_result"
    }
   ],
   "source": [
    "q2 = pd.Period('2018Q2', 'Q-JAN')\n",
    "q2"
   ]
  },
  {
   "cell_type": "code",
   "execution_count": 31,
   "id": "252f63bf-e24f-4379-ab8f-016e9af6b138",
   "metadata": {},
   "outputs": [
    {
     "data": {
      "text/plain": [
       "<5 * QuarterEnds: startingMonth=1>"
      ]
     },
     "execution_count": 31,
     "metadata": {},
     "output_type": "execute_result"
    }
   ],
   "source": [
    "q2 - q"
   ]
  },
  {
   "cell_type": "code",
   "execution_count": 32,
   "id": "2224bf9e-4a02-4edd-8420-0627f1ac8ddf",
   "metadata": {},
   "outputs": [
    {
     "data": {
      "text/plain": [
       "PeriodIndex(['2011Q4', '2012Q1', '2012Q2', '2012Q3', '2012Q4', '2013Q1',\n",
       "             '2013Q2', '2013Q3', '2013Q4', '2014Q1'],\n",
       "            dtype='period[Q-JAN]')"
      ]
     },
     "execution_count": 32,
     "metadata": {},
     "output_type": "execute_result"
    }
   ],
   "source": [
    "idx = pd.period_range('2011', periods=10, freq='Q-JAN')\n",
    "idx"
   ]
  },
  {
   "cell_type": "code",
   "execution_count": 33,
   "id": "b1b9a519-6b37-4ffa-8d87-12279ccc3013",
   "metadata": {},
   "outputs": [
    {
     "data": {
      "text/plain": [
       "Timestamp('2010-11-01 00:00:00')"
      ]
     },
     "execution_count": 33,
     "metadata": {},
     "output_type": "execute_result"
    }
   ],
   "source": [
    "idx[0].start_time"
   ]
  },
  {
   "cell_type": "code",
   "execution_count": 34,
   "id": "96765c90-91f4-49de-a7ff-3f85b88268dc",
   "metadata": {},
   "outputs": [
    {
     "data": {
      "text/plain": [
       "Timestamp('2011-01-31 23:59:59.999999999')"
      ]
     },
     "execution_count": 34,
     "metadata": {},
     "output_type": "execute_result"
    }
   ],
   "source": [
    "idx[0].end_time"
   ]
  },
  {
   "cell_type": "markdown",
   "id": "8a2ae809-726a-403d-bf7a-c5efe63a5205",
   "metadata": {},
   "source": [
    "#### Generate Series with random values and quarterly periods"
   ]
  },
  {
   "cell_type": "code",
   "execution_count": 35,
   "id": "281ef0e1-025e-4497-8cf0-c2e6ce8cfd10",
   "metadata": {},
   "outputs": [],
   "source": [
    "import numpy as np"
   ]
  },
  {
   "cell_type": "code",
   "execution_count": 36,
   "id": "fa8507b5-c9f0-49be-972d-a47c1c8c54e8",
   "metadata": {},
   "outputs": [
    {
     "data": {
      "text/plain": [
       "2011Q4    0.558634\n",
       "2012Q1    0.030815\n",
       "2012Q2   -0.865092\n",
       "2012Q3   -1.906897\n",
       "2012Q4    0.159966\n",
       "2013Q1   -0.665419\n",
       "2013Q2    0.500202\n",
       "2013Q3    1.050552\n",
       "2013Q4    0.723910\n",
       "2014Q1   -1.024578\n",
       "Freq: Q-JAN, dtype: float64"
      ]
     },
     "execution_count": 36,
     "metadata": {},
     "output_type": "execute_result"
    }
   ],
   "source": [
    "ps = pd.Series(np.random.randn(len(idx)), idx)\n",
    "ps"
   ]
  },
  {
   "cell_type": "code",
   "execution_count": 37,
   "id": "b2a58c89-02c5-44d0-a333-c2e1bc370a4e",
   "metadata": {},
   "outputs": [
    {
     "data": {
      "text/plain": [
       "PeriodIndex(['2011Q4', '2012Q1', '2012Q2', '2012Q3', '2012Q4', '2013Q1',\n",
       "             '2013Q2', '2013Q3', '2013Q4', '2014Q1'],\n",
       "            dtype='period[Q-JAN]')"
      ]
     },
     "execution_count": 37,
     "metadata": {},
     "output_type": "execute_result"
    }
   ],
   "source": [
    "ps.index"
   ]
  },
  {
   "cell_type": "code",
   "execution_count": 38,
   "id": "169c5234-1abd-4f06-b6cd-20df1cbca1ac",
   "metadata": {},
   "outputs": [
    {
     "data": {
      "text/plain": [
       "2011Q4    0.558634\n",
       "2012Q1    0.030815\n",
       "2012Q2   -0.865092\n",
       "2012Q3   -1.906897\n",
       "2012Q4    0.159966\n",
       "Freq: Q-JAN, dtype: float64"
      ]
     },
     "execution_count": 38,
     "metadata": {},
     "output_type": "execute_result"
    }
   ],
   "source": [
    "ps['2011']"
   ]
  },
  {
   "cell_type": "code",
   "execution_count": 39,
   "id": "24e9155e-00b2-44e1-b265-339e02455a94",
   "metadata": {},
   "outputs": [
    {
     "data": {
      "text/plain": [
       "2011Q4    0.558634\n",
       "2012Q1    0.030815\n",
       "2012Q2   -0.865092\n",
       "2012Q3   -1.906897\n",
       "2012Q4    0.159966\n",
       "2013Q1   -0.665419\n",
       "2013Q2    0.500202\n",
       "2013Q3    1.050552\n",
       "2013Q4    0.723910\n",
       "2014Q1   -1.024578\n",
       "Freq: Q-JAN, dtype: float64"
      ]
     },
     "execution_count": 39,
     "metadata": {},
     "output_type": "execute_result"
    }
   ],
   "source": [
    "ps['2011' : '2013']"
   ]
  },
  {
   "cell_type": "code",
   "execution_count": 40,
   "id": "2b7a321a-dfb0-4f82-bd7d-b5d79d5051b2",
   "metadata": {},
   "outputs": [
    {
     "data": {
      "text/plain": [
       "2010-11-01    0.558634\n",
       "2011-02-01    0.030815\n",
       "2011-05-01   -0.865092\n",
       "2011-08-01   -1.906897\n",
       "2011-11-01    0.159966\n",
       "2012-02-01   -0.665419\n",
       "2012-05-01    0.500202\n",
       "2012-08-01    1.050552\n",
       "2012-11-01    0.723910\n",
       "2013-02-01   -1.024578\n",
       "Freq: QS-NOV, dtype: float64"
      ]
     },
     "execution_count": 40,
     "metadata": {},
     "output_type": "execute_result"
    }
   ],
   "source": [
    "pst = ps.to_timestamp()\n",
    "pst"
   ]
  },
  {
   "cell_type": "code",
   "execution_count": 41,
   "id": "3683de17-6129-45d6-a1a4-a4327829005b",
   "metadata": {},
   "outputs": [
    {
     "data": {
      "text/plain": [
       "DatetimeIndex(['2010-11-01', '2011-02-01', '2011-05-01', '2011-08-01',\n",
       "               '2011-11-01', '2012-02-01', '2012-05-01', '2012-08-01',\n",
       "               '2012-11-01', '2013-02-01'],\n",
       "              dtype='datetime64[ns]', freq='QS-NOV')"
      ]
     },
     "execution_count": 41,
     "metadata": {},
     "output_type": "execute_result"
    }
   ],
   "source": [
    "pst.index"
   ]
  },
  {
   "cell_type": "code",
   "execution_count": 42,
   "id": "07040c67-57fd-4338-a446-e3a7b350161c",
   "metadata": {},
   "outputs": [
    {
     "data": {
      "text/plain": [
       "2010Q4    0.558634\n",
       "2011Q1    0.030815\n",
       "2011Q2   -0.865092\n",
       "2011Q3   -1.906897\n",
       "2011Q4    0.159966\n",
       "2012Q1   -0.665419\n",
       "2012Q2    0.500202\n",
       "2012Q3    1.050552\n",
       "2012Q4    0.723910\n",
       "2013Q1   -1.024578\n",
       "Freq: Q-DEC, dtype: float64"
      ]
     },
     "execution_count": 42,
     "metadata": {},
     "output_type": "execute_result"
    }
   ],
   "source": [
    "pst.to_period()"
   ]
  },
  {
   "cell_type": "markdown",
   "id": "7bab6acf-558e-4bbf-90bd-2d94f062fb14",
   "metadata": {},
   "source": [
    "#### Using periods to index Wallmart stocks"
   ]
  },
  {
   "cell_type": "code",
   "execution_count": 43,
   "id": "233a5ade-28cf-4dc6-8669-3b3ab7c21391",
   "metadata": {},
   "outputs": [
    {
     "data": {
      "text/html": [
       "<div>\n",
       "<style scoped>\n",
       "    .dataframe tbody tr th:only-of-type {\n",
       "        vertical-align: middle;\n",
       "    }\n",
       "\n",
       "    .dataframe tbody tr th {\n",
       "        vertical-align: top;\n",
       "    }\n",
       "\n",
       "    .dataframe thead th {\n",
       "        text-align: right;\n",
       "    }\n",
       "</style>\n",
       "<table border=\"1\" class=\"dataframe\">\n",
       "  <thead>\n",
       "    <tr style=\"text-align: right;\">\n",
       "      <th></th>\n",
       "      <th>Line Item</th>\n",
       "      <th>2017Q1</th>\n",
       "      <th>2017Q2</th>\n",
       "      <th>2017Q3</th>\n",
       "      <th>2017Q4</th>\n",
       "      <th>2018Q1</th>\n",
       "    </tr>\n",
       "  </thead>\n",
       "  <tbody>\n",
       "    <tr>\n",
       "      <th>0</th>\n",
       "      <td>Revenue</td>\n",
       "      <td>115904</td>\n",
       "      <td>120854</td>\n",
       "      <td>118179</td>\n",
       "      <td>130936</td>\n",
       "      <td>117542</td>\n",
       "    </tr>\n",
       "    <tr>\n",
       "      <th>1</th>\n",
       "      <td>Expenses</td>\n",
       "      <td>86544</td>\n",
       "      <td>89485</td>\n",
       "      <td>87484</td>\n",
       "      <td>97743</td>\n",
       "      <td>87688</td>\n",
       "    </tr>\n",
       "    <tr>\n",
       "      <th>2</th>\n",
       "      <td>Profit</td>\n",
       "      <td>29360</td>\n",
       "      <td>31369</td>\n",
       "      <td>30695</td>\n",
       "      <td>33193</td>\n",
       "      <td>29854</td>\n",
       "    </tr>\n",
       "  </tbody>\n",
       "</table>\n",
       "</div>"
      ],
      "text/plain": [
       "  Line Item  2017Q1  2017Q2  2017Q3  2017Q4  2018Q1\n",
       "0   Revenue  115904  120854  118179  130936  117542\n",
       "1  Expenses   86544   89485   87484   97743   87688\n",
       "2    Profit   29360   31369   30695   33193   29854"
      ]
     },
     "execution_count": 43,
     "metadata": {},
     "output_type": "execute_result"
    }
   ],
   "source": [
    "df = pd.read_excel('./wmt.xlsx')\n",
    "df"
   ]
  },
  {
   "cell_type": "code",
   "execution_count": 44,
   "id": "2a14077c-a6cd-4ac6-88eb-0e7d6c372feb",
   "metadata": {},
   "outputs": [
    {
     "data": {
      "text/html": [
       "<div>\n",
       "<style scoped>\n",
       "    .dataframe tbody tr th:only-of-type {\n",
       "        vertical-align: middle;\n",
       "    }\n",
       "\n",
       "    .dataframe tbody tr th {\n",
       "        vertical-align: top;\n",
       "    }\n",
       "\n",
       "    .dataframe thead th {\n",
       "        text-align: right;\n",
       "    }\n",
       "</style>\n",
       "<table border=\"1\" class=\"dataframe\">\n",
       "  <thead>\n",
       "    <tr style=\"text-align: right;\">\n",
       "      <th></th>\n",
       "      <th>2017Q1</th>\n",
       "      <th>2017Q2</th>\n",
       "      <th>2017Q3</th>\n",
       "      <th>2017Q4</th>\n",
       "      <th>2018Q1</th>\n",
       "    </tr>\n",
       "    <tr>\n",
       "      <th>Line Item</th>\n",
       "      <th></th>\n",
       "      <th></th>\n",
       "      <th></th>\n",
       "      <th></th>\n",
       "      <th></th>\n",
       "    </tr>\n",
       "  </thead>\n",
       "  <tbody>\n",
       "    <tr>\n",
       "      <th>Revenue</th>\n",
       "      <td>115904</td>\n",
       "      <td>120854</td>\n",
       "      <td>118179</td>\n",
       "      <td>130936</td>\n",
       "      <td>117542</td>\n",
       "    </tr>\n",
       "    <tr>\n",
       "      <th>Expenses</th>\n",
       "      <td>86544</td>\n",
       "      <td>89485</td>\n",
       "      <td>87484</td>\n",
       "      <td>97743</td>\n",
       "      <td>87688</td>\n",
       "    </tr>\n",
       "    <tr>\n",
       "      <th>Profit</th>\n",
       "      <td>29360</td>\n",
       "      <td>31369</td>\n",
       "      <td>30695</td>\n",
       "      <td>33193</td>\n",
       "      <td>29854</td>\n",
       "    </tr>\n",
       "  </tbody>\n",
       "</table>\n",
       "</div>"
      ],
      "text/plain": [
       "           2017Q1  2017Q2  2017Q3  2017Q4  2018Q1\n",
       "Line Item                                        \n",
       "Revenue    115904  120854  118179  130936  117542\n",
       "Expenses    86544   89485   87484   97743   87688\n",
       "Profit      29360   31369   30695   33193   29854"
      ]
     },
     "execution_count": 44,
     "metadata": {},
     "output_type": "execute_result"
    }
   ],
   "source": [
    "df.set_index('Line Item', inplace=True)\n",
    "df"
   ]
  },
  {
   "cell_type": "code",
   "execution_count": 45,
   "id": "3fc5cb2c-7694-414c-9a95-166e298f3848",
   "metadata": {},
   "outputs": [
    {
     "data": {
      "text/html": [
       "<div>\n",
       "<style scoped>\n",
       "    .dataframe tbody tr th:only-of-type {\n",
       "        vertical-align: middle;\n",
       "    }\n",
       "\n",
       "    .dataframe tbody tr th {\n",
       "        vertical-align: top;\n",
       "    }\n",
       "\n",
       "    .dataframe thead th {\n",
       "        text-align: right;\n",
       "    }\n",
       "</style>\n",
       "<table border=\"1\" class=\"dataframe\">\n",
       "  <thead>\n",
       "    <tr style=\"text-align: right;\">\n",
       "      <th>Line Item</th>\n",
       "      <th>Revenue</th>\n",
       "      <th>Expenses</th>\n",
       "      <th>Profit</th>\n",
       "    </tr>\n",
       "  </thead>\n",
       "  <tbody>\n",
       "    <tr>\n",
       "      <th>2017Q1</th>\n",
       "      <td>115904</td>\n",
       "      <td>86544</td>\n",
       "      <td>29360</td>\n",
       "    </tr>\n",
       "    <tr>\n",
       "      <th>2017Q2</th>\n",
       "      <td>120854</td>\n",
       "      <td>89485</td>\n",
       "      <td>31369</td>\n",
       "    </tr>\n",
       "    <tr>\n",
       "      <th>2017Q3</th>\n",
       "      <td>118179</td>\n",
       "      <td>87484</td>\n",
       "      <td>30695</td>\n",
       "    </tr>\n",
       "    <tr>\n",
       "      <th>2017Q4</th>\n",
       "      <td>130936</td>\n",
       "      <td>97743</td>\n",
       "      <td>33193</td>\n",
       "    </tr>\n",
       "    <tr>\n",
       "      <th>2018Q1</th>\n",
       "      <td>117542</td>\n",
       "      <td>87688</td>\n",
       "      <td>29854</td>\n",
       "    </tr>\n",
       "  </tbody>\n",
       "</table>\n",
       "</div>"
      ],
      "text/plain": [
       "Line Item  Revenue  Expenses  Profit\n",
       "2017Q1      115904     86544   29360\n",
       "2017Q2      120854     89485   31369\n",
       "2017Q3      118179     87484   30695\n",
       "2017Q4      130936     97743   33193\n",
       "2018Q1      117542     87688   29854"
      ]
     },
     "execution_count": 45,
     "metadata": {},
     "output_type": "execute_result"
    }
   ],
   "source": [
    "# Transpose the Data Frame\n",
    "df = df.T\n",
    "df"
   ]
  },
  {
   "cell_type": "code",
   "execution_count": 46,
   "id": "f28f53a3-7eba-4043-9866-e1632c988427",
   "metadata": {},
   "outputs": [
    {
     "data": {
      "text/plain": [
       "Index(['2017Q1', '2017Q2', '2017Q3', '2017Q4', '2018Q1'], dtype='object')"
      ]
     },
     "execution_count": 46,
     "metadata": {},
     "output_type": "execute_result"
    }
   ],
   "source": [
    "df.index"
   ]
  },
  {
   "cell_type": "code",
   "execution_count": 47,
   "id": "335a00ba-5d33-4297-925c-8ac2fa7ea4cd",
   "metadata": {},
   "outputs": [
    {
     "data": {
      "text/plain": [
       "PeriodIndex(['2017Q1', '2017Q2', '2017Q3', '2017Q4', '2018Q1'], dtype='period[Q-JAN]')"
      ]
     },
     "execution_count": 47,
     "metadata": {},
     "output_type": "execute_result"
    }
   ],
   "source": [
    "df.index = pd.PeriodIndex(df.index, freq='Q-JAN')\n",
    "df.index"
   ]
  },
  {
   "cell_type": "code",
   "execution_count": 48,
   "id": "6f9cf1d1-6091-4e9f-b54d-0481fe8a72ea",
   "metadata": {},
   "outputs": [
    {
     "data": {
      "text/html": [
       "<div>\n",
       "<style scoped>\n",
       "    .dataframe tbody tr th:only-of-type {\n",
       "        vertical-align: middle;\n",
       "    }\n",
       "\n",
       "    .dataframe tbody tr th {\n",
       "        vertical-align: top;\n",
       "    }\n",
       "\n",
       "    .dataframe thead th {\n",
       "        text-align: right;\n",
       "    }\n",
       "</style>\n",
       "<table border=\"1\" class=\"dataframe\">\n",
       "  <thead>\n",
       "    <tr style=\"text-align: right;\">\n",
       "      <th>Line Item</th>\n",
       "      <th>Revenue</th>\n",
       "      <th>Expenses</th>\n",
       "      <th>Profit</th>\n",
       "      <th>start date</th>\n",
       "    </tr>\n",
       "  </thead>\n",
       "  <tbody>\n",
       "    <tr>\n",
       "      <th>2017Q1</th>\n",
       "      <td>115904</td>\n",
       "      <td>86544</td>\n",
       "      <td>29360</td>\n",
       "      <td>2016-02-01</td>\n",
       "    </tr>\n",
       "    <tr>\n",
       "      <th>2017Q2</th>\n",
       "      <td>120854</td>\n",
       "      <td>89485</td>\n",
       "      <td>31369</td>\n",
       "      <td>2016-05-01</td>\n",
       "    </tr>\n",
       "    <tr>\n",
       "      <th>2017Q3</th>\n",
       "      <td>118179</td>\n",
       "      <td>87484</td>\n",
       "      <td>30695</td>\n",
       "      <td>2016-08-01</td>\n",
       "    </tr>\n",
       "    <tr>\n",
       "      <th>2017Q4</th>\n",
       "      <td>130936</td>\n",
       "      <td>97743</td>\n",
       "      <td>33193</td>\n",
       "      <td>2016-11-01</td>\n",
       "    </tr>\n",
       "    <tr>\n",
       "      <th>2018Q1</th>\n",
       "      <td>117542</td>\n",
       "      <td>87688</td>\n",
       "      <td>29854</td>\n",
       "      <td>2017-02-01</td>\n",
       "    </tr>\n",
       "  </tbody>\n",
       "</table>\n",
       "</div>"
      ],
      "text/plain": [
       "Line Item  Revenue  Expenses  Profit start date\n",
       "2017Q1      115904     86544   29360 2016-02-01\n",
       "2017Q2      120854     89485   31369 2016-05-01\n",
       "2017Q3      118179     87484   30695 2016-08-01\n",
       "2017Q4      130936     97743   33193 2016-11-01\n",
       "2018Q1      117542     87688   29854 2017-02-01"
      ]
     },
     "execution_count": 48,
     "metadata": {},
     "output_type": "execute_result"
    }
   ],
   "source": [
    "df['start date'] = df.index.map(lambda x: x.start_time)\n",
    "df"
   ]
  },
  {
   "cell_type": "code",
   "execution_count": 49,
   "id": "c617448b-6371-47c9-b82c-185cef7273e8",
   "metadata": {},
   "outputs": [
    {
     "data": {
      "text/html": [
       "<div>\n",
       "<style scoped>\n",
       "    .dataframe tbody tr th:only-of-type {\n",
       "        vertical-align: middle;\n",
       "    }\n",
       "\n",
       "    .dataframe tbody tr th {\n",
       "        vertical-align: top;\n",
       "    }\n",
       "\n",
       "    .dataframe thead th {\n",
       "        text-align: right;\n",
       "    }\n",
       "</style>\n",
       "<table border=\"1\" class=\"dataframe\">\n",
       "  <thead>\n",
       "    <tr style=\"text-align: right;\">\n",
       "      <th>Line Item</th>\n",
       "      <th>Revenue</th>\n",
       "      <th>Expenses</th>\n",
       "      <th>Profit</th>\n",
       "      <th>start date</th>\n",
       "      <th>end date</th>\n",
       "    </tr>\n",
       "  </thead>\n",
       "  <tbody>\n",
       "    <tr>\n",
       "      <th>2017Q1</th>\n",
       "      <td>115904</td>\n",
       "      <td>86544</td>\n",
       "      <td>29360</td>\n",
       "      <td>2016-02-01</td>\n",
       "      <td>2016-04-30 23:59:59.999999999</td>\n",
       "    </tr>\n",
       "    <tr>\n",
       "      <th>2017Q2</th>\n",
       "      <td>120854</td>\n",
       "      <td>89485</td>\n",
       "      <td>31369</td>\n",
       "      <td>2016-05-01</td>\n",
       "      <td>2016-07-31 23:59:59.999999999</td>\n",
       "    </tr>\n",
       "    <tr>\n",
       "      <th>2017Q3</th>\n",
       "      <td>118179</td>\n",
       "      <td>87484</td>\n",
       "      <td>30695</td>\n",
       "      <td>2016-08-01</td>\n",
       "      <td>2016-10-31 23:59:59.999999999</td>\n",
       "    </tr>\n",
       "    <tr>\n",
       "      <th>2017Q4</th>\n",
       "      <td>130936</td>\n",
       "      <td>97743</td>\n",
       "      <td>33193</td>\n",
       "      <td>2016-11-01</td>\n",
       "      <td>2017-01-31 23:59:59.999999999</td>\n",
       "    </tr>\n",
       "    <tr>\n",
       "      <th>2018Q1</th>\n",
       "      <td>117542</td>\n",
       "      <td>87688</td>\n",
       "      <td>29854</td>\n",
       "      <td>2017-02-01</td>\n",
       "      <td>2017-04-30 23:59:59.999999999</td>\n",
       "    </tr>\n",
       "  </tbody>\n",
       "</table>\n",
       "</div>"
      ],
      "text/plain": [
       "Line Item  Revenue  Expenses  Profit start date                      end date\n",
       "2017Q1      115904     86544   29360 2016-02-01 2016-04-30 23:59:59.999999999\n",
       "2017Q2      120854     89485   31369 2016-05-01 2016-07-31 23:59:59.999999999\n",
       "2017Q3      118179     87484   30695 2016-08-01 2016-10-31 23:59:59.999999999\n",
       "2017Q4      130936     97743   33193 2016-11-01 2017-01-31 23:59:59.999999999\n",
       "2018Q1      117542     87688   29854 2017-02-01 2017-04-30 23:59:59.999999999"
      ]
     },
     "execution_count": 49,
     "metadata": {},
     "output_type": "execute_result"
    }
   ],
   "source": [
    "df['end date'] = df.index.map(lambda x: x.end_time)\n",
    "df"
   ]
  }
 ],
 "metadata": {
  "kernelspec": {
   "display_name": "Python 3 (ipykernel)",
   "language": "python",
   "name": "python3"
  },
  "language_info": {
   "codemirror_mode": {
    "name": "ipython",
    "version": 3
   },
   "file_extension": ".py",
   "mimetype": "text/x-python",
   "name": "python",
   "nbconvert_exporter": "python",
   "pygments_lexer": "ipython3",
   "version": "3.11.8"
  }
 },
 "nbformat": 4,
 "nbformat_minor": 5
}
