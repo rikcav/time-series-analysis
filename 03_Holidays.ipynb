{
 "cells": [
  {
   "cell_type": "code",
   "execution_count": 1,
   "id": "8ae57cdf-b7b1-480f-90c1-acf0cfbdde39",
   "metadata": {},
   "outputs": [],
   "source": [
    "import pandas as pd"
   ]
  },
  {
   "cell_type": "code",
   "execution_count": 2,
   "id": "eaf6af5d-1688-4350-ad49-a1430cdc39f2",
   "metadata": {},
   "outputs": [
    {
     "data": {
      "text/html": [
       "<div>\n",
       "<style scoped>\n",
       "    .dataframe tbody tr th:only-of-type {\n",
       "        vertical-align: middle;\n",
       "    }\n",
       "\n",
       "    .dataframe tbody tr th {\n",
       "        vertical-align: top;\n",
       "    }\n",
       "\n",
       "    .dataframe thead th {\n",
       "        text-align: right;\n",
       "    }\n",
       "</style>\n",
       "<table border=\"1\" class=\"dataframe\">\n",
       "  <thead>\n",
       "    <tr style=\"text-align: right;\">\n",
       "      <th></th>\n",
       "      <th>Open</th>\n",
       "      <th>High</th>\n",
       "      <th>Low</th>\n",
       "      <th>Close</th>\n",
       "      <th>Volume</th>\n",
       "    </tr>\n",
       "  </thead>\n",
       "  <tbody>\n",
       "    <tr>\n",
       "      <th>0</th>\n",
       "      <td>172.91</td>\n",
       "      <td>174.31</td>\n",
       "      <td>172.05</td>\n",
       "      <td>173.00</td>\n",
       "      <td>72,913,516</td>\n",
       "    </tr>\n",
       "    <tr>\n",
       "      <th>1</th>\n",
       "      <td>172.77</td>\n",
       "      <td>173.19</td>\n",
       "      <td>170.76</td>\n",
       "      <td>171.13</td>\n",
       "      <td>52,488,688</td>\n",
       "    </tr>\n",
       "    <tr>\n",
       "      <th>2</th>\n",
       "      <td>173.15</td>\n",
       "      <td>174.03</td>\n",
       "      <td>171.01</td>\n",
       "      <td>173.23</td>\n",
       "      <td>59,825,367</td>\n",
       "    </tr>\n",
       "    <tr>\n",
       "      <th>3</th>\n",
       "      <td>172.94</td>\n",
       "      <td>174.38</td>\n",
       "      <td>172.05</td>\n",
       "      <td>172.75</td>\n",
       "      <td>60,139,473</td>\n",
       "    </tr>\n",
       "    <tr>\n",
       "      <th>4</th>\n",
       "      <td>169.00</td>\n",
       "      <td>173.70</td>\n",
       "      <td>168.94</td>\n",
       "      <td>170.73</td>\n",
       "      <td>76,267,039</td>\n",
       "    </tr>\n",
       "  </tbody>\n",
       "</table>\n",
       "</div>"
      ],
      "text/plain": [
       "     Open    High     Low   Close      Volume\n",
       "0  172.91  174.31  172.05  173.00  72,913,516\n",
       "1  172.77  173.19  170.76  171.13  52,488,688\n",
       "2  173.15  174.03  171.01  173.23  59,825,367\n",
       "3  172.94  174.38  172.05  172.75  60,139,473\n",
       "4  169.00  173.70  168.94  170.73  76,267,039"
      ]
     },
     "execution_count": 2,
     "metadata": {},
     "output_type": "execute_result"
    }
   ],
   "source": [
    "df = pd.read_csv('./appl.csv').drop(columns=['Date'])\n",
    "df.head()"
   ]
  },
  {
   "cell_type": "code",
   "execution_count": 3,
   "id": "9988165d-6166-40e5-b76e-af706e121405",
   "metadata": {},
   "outputs": [
    {
     "data": {
      "text/plain": [
       "(253, 5)"
      ]
     },
     "execution_count": 3,
     "metadata": {},
     "output_type": "execute_result"
    }
   ],
   "source": [
    "df.shape"
   ]
  },
  {
   "cell_type": "code",
   "execution_count": 4,
   "id": "2d2fd821-acfb-4bc5-b497-3f856915e2b7",
   "metadata": {},
   "outputs": [
    {
     "data": {
      "text/plain": [
       "DatetimeIndex(['2017-07-03', '2017-07-04', '2017-07-05', '2017-07-06',\n",
       "               '2017-07-07', '2017-07-10', '2017-07-11', '2017-07-12',\n",
       "               '2017-07-13', '2017-07-14', '2017-07-17', '2017-07-18',\n",
       "               '2017-07-19', '2017-07-20', '2017-07-21'],\n",
       "              dtype='datetime64[ns]', freq='B')"
      ]
     },
     "execution_count": 4,
     "metadata": {},
     "output_type": "execute_result"
    }
   ],
   "source": [
    "pd.date_range(start='7/1/2017', end='7/21/2017', freq='B')"
   ]
  },
  {
   "cell_type": "code",
   "execution_count": 5,
   "id": "4513d3be-4d32-466d-8674-3702f1752d55",
   "metadata": {},
   "outputs": [],
   "source": [
    "from pandas.tseries.holiday import USFederalHolidayCalendar\n",
    "from pandas.tseries.offsets import CustomBusinessDay"
   ]
  },
  {
   "cell_type": "code",
   "execution_count": 6,
   "id": "79cd2b62-80c0-4ed4-b157-95dd97e1318b",
   "metadata": {},
   "outputs": [],
   "source": [
    "usb = CustomBusinessDay(calendar=USFederalHolidayCalendar())"
   ]
  },
  {
   "cell_type": "code",
   "execution_count": 7,
   "id": "67862e41-5041-48a9-93c2-ee854fc01327",
   "metadata": {},
   "outputs": [],
   "source": [
    "rng = pd.date_range(start='3/14/2023', end='3/15/2024', freq=usb)"
   ]
  },
  {
   "cell_type": "code",
   "execution_count": 8,
   "id": "aed71fea-4090-4317-b998-923423f395df",
   "metadata": {},
   "outputs": [
    {
     "data": {
      "text/plain": [
       "(253,)"
      ]
     },
     "execution_count": 8,
     "metadata": {},
     "output_type": "execute_result"
    }
   ],
   "source": [
    "rng.shape"
   ]
  },
  {
   "cell_type": "code",
   "execution_count": 9,
   "id": "e28f666e-c55e-4a62-b166-541074fdd582",
   "metadata": {},
   "outputs": [],
   "source": [
    "df.set_index(rng, inplace=True)"
   ]
  },
  {
   "cell_type": "code",
   "execution_count": 10,
   "id": "2bc8e948-627f-41e9-8e98-11a6e443a2be",
   "metadata": {},
   "outputs": [],
   "source": [
    "from pandas.tseries.holiday import AbstractHolidayCalendar, nearest_workday, Holiday"
   ]
  },
  {
   "cell_type": "code",
   "execution_count": 11,
   "id": "5b227296-6b5d-4fdb-8a97-1cf4f8364789",
   "metadata": {},
   "outputs": [],
   "source": [
    "class BirthdayCalendar(AbstractHolidayCalendar):\n",
    "    rules = [\n",
    "        Holiday(\"Henrique's birthday\", month=5, day=27, observance=nearest_workday)\n",
    "    ]"
   ]
  },
  {
   "cell_type": "code",
   "execution_count": 12,
   "id": "309040db-9a4f-4524-af30-397583e01d4a",
   "metadata": {},
   "outputs": [],
   "source": [
    "hbc = CustomBusinessDay(calendar=BirthdayCalendar())"
   ]
  },
  {
   "cell_type": "code",
   "execution_count": 13,
   "id": "4d91260a-213c-42c0-94f8-1f94ea73672f",
   "metadata": {},
   "outputs": [
    {
     "data": {
      "text/plain": [
       "DatetimeIndex(['2024-05-01', '2024-05-02', '2024-05-03', '2024-05-06',\n",
       "               '2024-05-07', '2024-05-08', '2024-05-09', '2024-05-10',\n",
       "               '2024-05-13', '2024-05-14', '2024-05-15', '2024-05-16',\n",
       "               '2024-05-17', '2024-05-20', '2024-05-21', '2024-05-22',\n",
       "               '2024-05-23', '2024-05-24', '2024-05-28', '2024-05-29',\n",
       "               '2024-05-30', '2024-05-31'],\n",
       "              dtype='datetime64[ns]', freq='C')"
      ]
     },
     "execution_count": 13,
     "metadata": {},
     "output_type": "execute_result"
    }
   ],
   "source": [
    "pd.date_range(start='5/1/2024', end='5/31/2024', freq=hbc)"
   ]
  },
  {
   "cell_type": "code",
   "execution_count": 14,
   "id": "a64b9b4a-25ab-4317-a145-c48e0bd5403e",
   "metadata": {},
   "outputs": [
    {
     "data": {
      "text/plain": [
       "DatetimeIndex(['2024-05-01', '2024-05-02', '2024-05-05', '2024-05-06',\n",
       "               '2024-05-07', '2024-05-08', '2024-05-09', '2024-05-12',\n",
       "               '2024-05-13', '2024-05-14', '2024-05-15', '2024-05-16',\n",
       "               '2024-05-19', '2024-05-20', '2024-05-21', '2024-05-22',\n",
       "               '2024-05-23', '2024-05-26', '2024-05-28', '2024-05-29',\n",
       "               '2024-05-30'],\n",
       "              dtype='datetime64[ns]', freq='C')"
      ]
     },
     "execution_count": 14,
     "metadata": {},
     "output_type": "execute_result"
    }
   ],
   "source": [
    "# Egypt's weekends are Friday and Saturday\n",
    "ebd = CustomBusinessDay(weekmask='Sun Mon Tue Wed Thu', holidays=['2024-05-27'])\n",
    "pd.date_range(start='5/1/2024', end='5/31/2024', freq=ebd)"
   ]
  }
 ],
 "metadata": {
  "kernelspec": {
   "display_name": "Python 3 (ipykernel)",
   "language": "python",
   "name": "python3"
  },
  "language_info": {
   "codemirror_mode": {
    "name": "ipython",
    "version": 3
   },
   "file_extension": ".py",
   "mimetype": "text/x-python",
   "name": "python",
   "nbconvert_exporter": "python",
   "pygments_lexer": "ipython3",
   "version": "3.11.8"
  }
 },
 "nbformat": 4,
 "nbformat_minor": 5
}
