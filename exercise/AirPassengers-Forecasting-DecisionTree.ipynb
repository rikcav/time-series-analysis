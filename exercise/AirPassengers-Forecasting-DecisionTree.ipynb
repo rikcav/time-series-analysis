{
 "cells": [
  {
   "cell_type": "code",
   "execution_count": null,
   "id": "c3474c27-74f5-49d3-83eb-968a1e41977e",
   "metadata": {},
   "outputs": [],
   "source": [
    "import pandas as pd\n",
    "import numpy as np\n",
    "import matplotlib.pyplot as plt\n",
    "from statsmodels.tsa.seasonal import seasonal_decompose\n",
    "from statsmodels.tsa.stattools import adfuller\n",
    "import statsmodels.api as sm"
   ]
  },
  {
   "cell_type": "code",
   "execution_count": null,
   "id": "e3896c99-6e76-4eec-80d8-aa0c602fa0c2",
   "metadata": {},
   "outputs": [],
   "source": [
    "df = pd.read_csv('./AirPassengers.csv').rename(columns={'Month': 'Date'})\n",
    "df.info()"
   ]
  },
  {
   "cell_type": "code",
   "execution_count": null,
   "id": "c3b6b3d9-5075-4860-943b-9daf779ed842",
   "metadata": {},
   "outputs": [],
   "source": [
    "df['Date'] = pd.to_datetime(df['Date'])\n",
    "df.set_index('Date', inplace=True)\n",
    "df"
   ]
  },
  {
   "cell_type": "markdown",
   "id": "c93dfee3-41e1-44e7-a496-82a2ea4e7c48",
   "metadata": {},
   "source": [
    "## Time Series Plot"
   ]
  },
  {
   "cell_type": "code",
   "execution_count": null,
   "id": "950a2f40-c75f-43e0-a770-2d47b7b147dd",
   "metadata": {},
   "outputs": [],
   "source": [
    "plt.figure(figsize=(8,4))\n",
    "plt.plot(df)\n",
    "plt.title('Airline Passengers')\n",
    "plt.xlabel('Date')\n",
    "plt.ylabel('#Passangers')\n",
    "plt.show()"
   ]
  },
  {
   "cell_type": "markdown",
   "id": "7cc58b52-1883-411e-8ae5-3c88131f4d34",
   "metadata": {},
   "source": [
    "## Time Series division"
   ]
  },
  {
   "cell_type": "code",
   "execution_count": null,
   "id": "11226654-7bb3-4adf-b080-31c2c4978d17",
   "metadata": {},
   "outputs": [],
   "source": [
    "train, val, test = df.loc['1949':'1957'], df.loc['1958':'1959'], df.loc['1960':]"
   ]
  },
  {
   "cell_type": "code",
   "execution_count": null,
   "id": "436002cb-6037-43f6-b9ac-75e6d61e5dd5",
   "metadata": {},
   "outputs": [],
   "source": [
    "plt.figure(figsize=(12, 6))\n",
    "plt.plot(train.index, train.values, label='Train')\n",
    "plt.plot(val.index, val.values, label='Validation')\n",
    "plt.plot(test.index, test.values, label='Test')\n",
    "plt.title('Airline Passengers')\n",
    "plt.xlabel('Date')\n",
    "plt.ylabel('# Passengers')\n",
    "plt.legend()\n",
    "plt.show()"
   ]
  },
  {
   "cell_type": "markdown",
   "id": "2ebfd69e-55e2-4c08-bcd7-6260785cb0e2",
   "metadata": {},
   "source": [
    "## Autocorrelation"
   ]
  },
  {
   "cell_type": "code",
   "execution_count": null,
   "id": "b44f613f-e346-44ba-9171-3adfda912eaa",
   "metadata": {},
   "outputs": [],
   "source": [
    "from sklearn.preprocessing import MinMaxScaler"
   ]
  },
  {
   "cell_type": "code",
   "execution_count": null,
   "id": "064155be-28a3-4f91-b171-d84f63fb9fab",
   "metadata": {},
   "outputs": [],
   "source": [
    "scaler = MinMaxScaler()\n",
    "scaler.fit(train['#Passengers'].values.reshape(-1, 1))\n",
    "train_norm = scaler.transform(train['#Passengers'].values.reshape(-1, 1))\n",
    "val_norm = scaler.transform(val['#Passengers'].values.reshape(-1, 1))\n",
    "test_norm = scaler.transform(test['#Passengers'].values.reshape(-1, 1))"
   ]
  },
  {
   "cell_type": "code",
   "execution_count": null,
   "id": "3e50eb36-e50c-413f-bac1-4b6fc5eea637",
   "metadata": {},
   "outputs": [],
   "source": [
    "train['#Passengers'].values"
   ]
  },
  {
   "cell_type": "code",
   "execution_count": null,
   "id": "bd978ced-d28b-4f31-868b-7259e3ba8b47",
   "metadata": {},
   "outputs": [],
   "source": [
    "def acf_pacf(x, qtd_lag):\n",
    "    fig = plt.figure(figsize=(16,10))\n",
    "    ax1 = fig.add_subplot(221)\n",
    "    fig = sm.graphics.tsa.plot_acf(x, lags=qtd_lag, ax=ax1)\n",
    "    ax2 = fig.add_subplot(222)\n",
    "    fig = sm.graphics.tsa.plot_pacf(x, lags=qtd_lag, ax=ax2)\n",
    "    plt.show()"
   ]
  },
  {
   "cell_type": "code",
   "execution_count": null,
   "id": "351caa96-f40c-4258-90f1-07ff59df0933",
   "metadata": {},
   "outputs": [],
   "source": [
    "acf_pacf(train_norm, 36)"
   ]
  },
  {
   "cell_type": "markdown",
   "id": "1f3b0001-27c7-4c4b-a46a-393802435721",
   "metadata": {},
   "source": [
    "## Sliding windows"
   ]
  },
  {
   "cell_type": "code",
   "execution_count": null,
   "id": "4318672d-1d8b-4bf8-bf96-f63da14c9ab8",
   "metadata": {},
   "outputs": [],
   "source": [
    "def create_sliding_windows(series, window_size):\n",
    "    list_of_sliding_windows = []\n",
    "    list_size_to_iterate = len(series) - window_size\n",
    "    for i in range(0, list_size_to_iterate):\n",
    "        window = series[i: i + window_size + 1]\n",
    "        list_of_sliding_windows.append(window)\n",
    "\n",
    "    return np.array(list_of_sliding_windows).reshape(len(list_of_sliding_windows), window_size+1)"
   ]
  },
  {
   "cell_type": "code",
   "execution_count": null,
   "id": "2458745c-fc2c-48a8-99cf-e68a33dc738f",
   "metadata": {},
   "outputs": [],
   "source": [
    "train_windows = create_sliding_windows(train_norm, 8)\n",
    "val_windows = create_sliding_windows(val_norm, 8)\n",
    "test_windows = create_sliding_windows(test_norm, 8)"
   ]
  },
  {
   "cell_type": "code",
   "execution_count": null,
   "id": "ca2107db-764b-4254-801c-3e0a34493f95",
   "metadata": {},
   "outputs": [],
   "source": [
    "train_windows.shape"
   ]
  },
  {
   "cell_type": "code",
   "execution_count": null,
   "id": "47ca3217-b267-4ca1-afeb-8b0c8b1ce64f",
   "metadata": {},
   "outputs": [],
   "source": [
    "X_train = train_windows[:, 0:-1]\n",
    "y_train = train_windows[:, -1]\n",
    "\n",
    "X_val = val_windows[: ,0: -1 ]\n",
    "y_val = val_windows[: , -1 ]\n",
    "\n",
    "X_test = test_windows[: ,0: -1 ]\n",
    "y_test = test_windows[: , -1 ]"
   ]
  },
  {
   "cell_type": "code",
   "execution_count": null,
   "id": "e2ab5c0c-7bea-4374-ae03-e53de6849d83",
   "metadata": {},
   "outputs": [],
   "source": [
    "test_windows"
   ]
  },
  {
   "cell_type": "markdown",
   "id": "ee9014e5-c37b-4b2c-8aac-861550945daa",
   "metadata": {},
   "source": [
    "## Grid search"
   ]
  },
  {
   "cell_type": "code",
   "execution_count": null,
   "id": "a809c6ae-671e-4742-a2ad-84992ca758a9",
   "metadata": {},
   "outputs": [],
   "source": [
    "from sklearn.tree import DecisionTreeRegressor\n",
    "from sklearn.metrics import mean_squared_error as MSE"
   ]
  },
  {
   "cell_type": "code",
   "execution_count": null,
   "id": "370e3f85-e3e6-45a5-82c7-c670edbf0934",
   "metadata": {},
   "outputs": [],
   "source": [
    "criterion = ['squared_error', 'friedman_mse', 'absolute_error']\n",
    "max_depths = [5, 10, 15]\n",
    "mse_best = np.inf\n",
    "best_params = None\n",
    "for c in criterion:\n",
    "  for d in max_depths:\n",
    "    modelo = DecisionTreeRegressor(criterion=c, max_depth = d)\n",
    "    modelo.fit(X_train, y_train)\n",
    "    prev_val = modelo.predict(X_val)\n",
    "\n",
    "    mse_val = MSE(y_val, prev_val)\n",
    "    if mse_val < mse_best:\n",
    "      mse_best = mse_val\n",
    "      best_params = (c, d)"
   ]
  },
  {
   "cell_type": "code",
   "execution_count": null,
   "id": "bbf8f170-7dae-44f1-b022-487f5008161e",
   "metadata": {},
   "outputs": [],
   "source": [
    "best_params"
   ]
  },
  {
   "cell_type": "markdown",
   "id": "df6c0b68-4d49-474c-9547-06cb61649616",
   "metadata": {},
   "source": [
    "## Model training"
   ]
  },
  {
   "cell_type": "code",
   "execution_count": null,
   "id": "ae5a3937-bca5-402e-9672-f3b8d86d72ac",
   "metadata": {},
   "outputs": [],
   "source": [
    "X_train_full = np.vstack([X_train, X_val])\n",
    "y_train_full = np.hstack([y_train, y_val])"
   ]
  },
  {
   "cell_type": "code",
   "execution_count": null,
   "id": "2a3c608c-cabc-4a8a-b41b-e9b5de852934",
   "metadata": {},
   "outputs": [],
   "source": [
    "X_train_full.shape"
   ]
  },
  {
   "cell_type": "code",
   "execution_count": null,
   "id": "5e26d826-3811-49f4-9735-3decd0d03623",
   "metadata": {},
   "outputs": [],
   "source": [
    "y_train_full.shape"
   ]
  },
  {
   "cell_type": "code",
   "execution_count": null,
   "id": "1e729bc6-7b8a-4301-976b-8a71fdc916b7",
   "metadata": {},
   "outputs": [],
   "source": [
    "model = DecisionTreeRegressor(criterion=best_params[0], max_depth=best_params[1])\n",
    "model.fit(X_train_full, y_train_full)\n",
    "prev_train = modelo.predict(X_train_full)"
   ]
  },
  {
   "cell_type": "code",
   "execution_count": null,
   "id": "394cd063-fb36-45e6-be58-badd13880522",
   "metadata": {},
   "outputs": [],
   "source": [
    "plt.plot(prev_train, label = 'predict')\n",
    "plt.plot(y_train_full, label = 'target')\n",
    "plt.legend(loc = 'best')\n",
    "plt.show()"
   ]
  },
  {
   "cell_type": "code",
   "execution_count": null,
   "id": "5307cc44-9282-42b3-b9d2-243d04628403",
   "metadata": {},
   "outputs": [],
   "source": [
    "MSE(y_train_full, prev_train)"
   ]
  },
  {
   "cell_type": "code",
   "execution_count": null,
   "id": "c8d03d76-0dad-4bd9-8ec1-97bc14155d5a",
   "metadata": {},
   "outputs": [],
   "source": [
    "y_real = scaler.inverse_transform(y_train_full.reshape(-1, 1))\n",
    "predict_real = scaler.inverse_transform(prev_train.reshape(-1, 1))"
   ]
  },
  {
   "cell_type": "code",
   "execution_count": null,
   "id": "924fa9e0-cd81-411c-b7fa-c57f93cbb3d5",
   "metadata": {},
   "outputs": [],
   "source": [
    "MSE(y_real, predict_real)"
   ]
  },
  {
   "cell_type": "code",
   "execution_count": null,
   "id": "e78b7e36-c56f-483c-b2aa-b4216c0dc5a7",
   "metadata": {},
   "outputs": [],
   "source": [
    "prev_test = model.predict(X_test)"
   ]
  },
  {
   "cell_type": "code",
   "execution_count": null,
   "id": "f5559213-d8f4-4484-922d-0067b526a87e",
   "metadata": {},
   "outputs": [],
   "source": [
    "plt.plot(prev_test, label = 'predict')\n",
    "plt.plot(y_test, label = 'target')\n",
    "plt.legend(loc = 'best')\n",
    "plt.show()"
   ]
  },
  {
   "cell_type": "code",
   "execution_count": null,
   "id": "4a405813-1833-42e1-8380-f9489e5297b4",
   "metadata": {},
   "outputs": [],
   "source": [
    "MSE(y_test, prev_test)"
   ]
  },
  {
   "cell_type": "code",
   "execution_count": null,
   "id": "8eea26e9-c03f-4dbb-9388-1a366d528c0c",
   "metadata": {},
   "outputs": [],
   "source": [
    "y_real = scaler.inverse_transform(y_test.reshape(-1, 1))\n",
    "predict_real = scaler.inverse_transform(prev_test.reshape(-1, 1))"
   ]
  },
  {
   "cell_type": "code",
   "execution_count": null,
   "id": "0531c1b2-dc2c-42e1-83c2-22bc65381400",
   "metadata": {},
   "outputs": [],
   "source": [
    "MSE(y_real, predict_real)"
   ]
  }
 ],
 "metadata": {
  "kernelspec": {
   "display_name": "Python 3 (ipykernel)",
   "language": "python",
   "name": "python3"
  },
  "language_info": {
   "codemirror_mode": {
    "name": "ipython",
    "version": 3
   },
   "file_extension": ".py",
   "mimetype": "text/x-python",
   "name": "python",
   "nbconvert_exporter": "python",
   "pygments_lexer": "ipython3",
   "version": "3.12.3"
  }
 },
 "nbformat": 4,
 "nbformat_minor": 5
}
